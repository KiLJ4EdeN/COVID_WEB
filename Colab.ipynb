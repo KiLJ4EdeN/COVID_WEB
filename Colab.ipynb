{
  "nbformat": 4,
  "nbformat_minor": 0,
  "metadata": {
    "colab": {
      "name": "REPOSITORE.ipynb",
      "provenance": [],
      "collapsed_sections": [],
      "authorship_tag": "ABX9TyPCOJBi1e0PjSthqSs3wYUj",
      "include_colab_link": true
    },
    "kernelspec": {
      "name": "python3",
      "display_name": "Python 3"
    },
    "accelerator": "GPU"
  },
  "cells": [
    {
      "cell_type": "markdown",
      "metadata": {
        "id": "view-in-github",
        "colab_type": "text"
      },
      "source": [
        "<a href=\"https://colab.research.google.com/github/KiLJ4EdeN/COVID_WEB/blob/master/Colab.ipynb\" target=\"_parent\"><img src=\"https://colab.research.google.com/assets/colab-badge.svg\" alt=\"Open In Colab\"/></a>"
      ]
    },
    {
      "cell_type": "code",
      "metadata": {
        "id": "50EFGyGZipIQ"
      },
      "source": [
        "# Install flask ngrok to tunnel our service.\n",
        "!pip install flask_ngrok"
      ],
      "execution_count": null,
      "outputs": []
    },
    {
      "cell_type": "code",
      "metadata": {
        "id": "LswA0vIsFcno"
      },
      "source": [
        "# Clone the repos.\n",
        "!git clone https://github.com/KiLJ4EdeN/COVID_WEB\n",
        "!git clone https://github.com/UCSD-AI4H/COVID-CT\n",
        "# Copy images into the working directory.\n",
        "!cp COVID-CT/Images-processed/{CT_COVID.zip,CT_NonCOVID.zip} COVID_WEB\n",
        "# Remove Unwanted files.\n",
        "!rm -rf COVID-CT\n",
        "# Move to the prediction repo and start training.\n",
        "%cd COVID_WEB\n",
        "# Unzip and preprocess CT-Images.\n",
        "!unzip CT_COVID.zip\n",
        "!unzip CT_NonCOVID.zip\n",
        "!python3 create_dataset.py\n",
        "# Extract features and run the service.\n",
        "!python3 extract_features.py\n",
        "!python3 server.py"
      ],
      "execution_count": null,
      "outputs": []
    }
  ]
}
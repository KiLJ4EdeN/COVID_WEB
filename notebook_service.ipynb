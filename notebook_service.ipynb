{
  "nbformat": 4,
  "nbformat_minor": 0,
  "metadata": {
    "colab": {
      "name": "COVID_WEB.ipynb",
      "provenance": []
    },
    "kernelspec": {
      "name": "python3",
      "display_name": "Python 3"
    }
  },
  "cells": [
    {
      "cell_type": "code",
      "metadata": {
        "id": "YXqBtzgoOcdV",
        "outputId": "cb4e01be-04c1-4f22-d54b-80719ca526e3",
        "colab": {
          "base_uri": "https://localhost:8080/",
          "height": 54
        }
      },
      "source": [
        "# Install flask ngrok to tunnel our service.\n",
        "!pip install flask_ngrok"
      ],
      "execution_count": 1,
      "outputs": [
        {
          "output_type": "stream",
          "text": [
            "Installing collected packages: flask-ngrok\n",
            "Successfully installed flask-ngrok-0.0.25\n"
          ],
          "name": "stdout"
        }
      ]
    },
    {
      "cell_type": "code",
      "metadata": {
        "id": "zFNOnK3KQRXb"
      },
      "source": [
        "# Clone the repos.\n",
        "!git clone https://github.com/KiLJ4EdeN/COVID_WEB\n",
        "!git clone https://github.com/UCSD-AI4H/COVID-CT\n",
        "# Copy images into the working directory.\n",
        "!cp COVID-CT/Images-processed/{CT_COVID.zip,CT_NonCOVID.zip} COVID_WEB\n",
        "# Remove Unwanted files.\n",
        "!rm -rf COVID-CT\n",
        "# Move to the prediction repo and start training.\n",
        "%cd COVID_WEB\n",
        "# Unzip and preprocess CT-Images.\n",
        "!unzip CT_COVID.zip\n",
        "!unzip CT_NonCOVID.zip\n",
        "!python3 create_dataset.py\n",
        "# Extract features and run the service.\n",
        "!python3 extract_features.py\n",
        "!python3 server.py"
      ],
      "execution_count": null,
      "outputs": []
    }
  ]
}